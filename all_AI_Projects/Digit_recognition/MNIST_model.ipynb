{
 "cells": [
  {
   "cell_type": "code",
   "execution_count": 46,
   "id": "bf1b9006-bafa-4565-acd6-fb1fef7eb18f",
   "metadata": {},
   "outputs": [],
   "source": [
    "import tensorflow as tf\n",
    "import matplotlib.pyplot as plt\n",
    "import numpy as np\n",
    "import tensorrt\n",
    "import keras"
   ]
  },
  {
   "cell_type": "code",
   "execution_count": 47,
   "id": "bff74193-1fbd-40c2-b14f-b5b0e37f34f1",
   "metadata": {},
   "outputs": [],
   "source": [
    "#Importing dataset\n",
    "from keras.datasets import mnist"
   ]
  },
  {
   "cell_type": "code",
   "execution_count": 48,
   "id": "ec0f289e-0410-409f-b4e3-937d3d1bc74d",
   "metadata": {},
   "outputs": [
    {
     "data": {
      "text/plain": [
       "\u001b[0;31mSignature:\u001b[0m \u001b[0mmnist\u001b[0m\u001b[0;34m.\u001b[0m\u001b[0mload_data\u001b[0m\u001b[0;34m(\u001b[0m\u001b[0mpath\u001b[0m\u001b[0;34m=\u001b[0m\u001b[0;34m'mnist.npz'\u001b[0m\u001b[0;34m)\u001b[0m\u001b[0;34m\u001b[0m\u001b[0;34m\u001b[0m\u001b[0m\n",
       "\u001b[0;31mDocstring:\u001b[0m\n",
       "Loads the MNIST dataset.\n",
       "\n",
       "This is a dataset of 60,000 28x28 grayscale images of the 10 digits,\n",
       "along with a test set of 10,000 images.\n",
       "More info can be found at the\n",
       "[MNIST homepage](http://yann.lecun.com/exdb/mnist/).\n",
       "\n",
       "Args:\n",
       "  path: path where to cache the dataset locally\n",
       "    (relative to `~/.keras/datasets`).\n",
       "\n",
       "Returns:\n",
       "  Tuple of NumPy arrays: `(x_train, y_train), (x_test, y_test)`.\n",
       "\n",
       "**x_train**: uint8 NumPy array of grayscale image data with shapes\n",
       "  `(60000, 28, 28)`, containing the training data. Pixel values range\n",
       "  from 0 to 255.\n",
       "\n",
       "**y_train**: uint8 NumPy array of digit labels (integers in range 0-9)\n",
       "  with shape `(60000,)` for the training data.\n",
       "\n",
       "**x_test**: uint8 NumPy array of grayscale image data with shapes\n",
       "  (10000, 28, 28), containing the test data. Pixel values range\n",
       "  from 0 to 255.\n",
       "\n",
       "**y_test**: uint8 NumPy array of digit labels (integers in range 0-9)\n",
       "  with shape `(10000,)` for the test data.\n",
       "\n",
       "Example:\n",
       "\n",
       "```python\n",
       "(x_train, y_train), (x_test, y_test) = keras.datasets.mnist.load_data()\n",
       "assert x_train.shape == (60000, 28, 28)\n",
       "assert x_test.shape == (10000, 28, 28)\n",
       "assert y_train.shape == (60000,)\n",
       "assert y_test.shape == (10000,)\n",
       "```\n",
       "\n",
       "License:\n",
       "  Yann LeCun and Corinna Cortes hold the copyright of MNIST dataset,\n",
       "  which is a derivative work from original NIST datasets.\n",
       "  MNIST dataset is made available under the terms of the\n",
       "  [Creative Commons Attribution-Share Alike 3.0 license.](\n",
       "  https://creativecommons.org/licenses/by-sa/3.0/)\n",
       "\u001b[0;31mFile:\u001b[0m      ~/Desktop/my-env/lib/python3.11/site-packages/keras/src/datasets/mnist.py\n",
       "\u001b[0;31mType:\u001b[0m      function"
      ]
     },
     "metadata": {},
     "output_type": "display_data"
    }
   ],
   "source": [
    "#Loading information about the dataset\n",
    "mnist.load_data?"
   ]
  },
  {
   "cell_type": "code",
   "execution_count": 49,
   "id": "8acc7f35-f1ad-4cc1-a5aa-91a0dd0b00fd",
   "metadata": {},
   "outputs": [
    {
     "data": {
      "text/plain": [
       "((60000, 28, 28), (60000,), (10000, 28, 28), (10000,))"
      ]
     },
     "execution_count": 49,
     "metadata": {},
     "output_type": "execute_result"
    }
   ],
   "source": [
    "(X_train, Y_train), (X_test, Y_test) = mnist.load_data()\n",
    "X_train.shape, Y_train.shape, X_test.shape, Y_test.shape"
   ]
  },
  {
   "cell_type": "code",
   "execution_count": 50,
   "id": "3ae33e00-5462-4cf7-a37c-656fca2687ff",
   "metadata": {},
   "outputs": [
    {
     "data": {
      "image/png": "[encoded data removed]",
      "text/plain": [
       "<Figure size 640x480 with 1 Axes>"
      ]
     },
     "metadata": {},
     "output_type": "display_data"
    },
    {
     "data": {
      "image/png": "[encoded data removed]",
      "text/plain": [
       "<Figure size 640x480 with 1 Axes>"
      ]
     },
     "metadata": {},
     "output_type": "display_data"
    }
   ],
   "source": [
    "for i in range(2):\n",
    "    plt.imshow(X_train[i],cmap=('binary'))\n",
    "    plt.show()"
   ]
  },
  {
   "cell_type": "code",
   "execution_count": 51,
   "id": "b3aa2a13-9ede-4670-9d70-b221035f7f70",
   "metadata": {},
   "outputs": [],
   "source": [
    "# Pre-processing the images\n",
    "\n",
    "#converting to float32 and dividing by 255 to normalize image to range[0,1]\n",
    "X_train = X_train.astype(np.float32)/255\n",
    "X_test = X_test.astype(np.float32)/255\n",
    "\n",
    "# Expand image dimensions from 2D to 3D i.e (28,28) to (28, 28, 1)\n",
    "X_train = np.expand_dims(X_train, -1)\n",
    "X_test = np.expand_dims(X_test, -1)\n",
    "\n",
    "# Set output to either 0 or 1 / one hot encoder / sets column values to 0 or 1\n",
    "Y_train = keras.utils.to_categorical(Y_train)\n",
    "Y_test = keras.utils.to_categorical(Y_test)"
   ]
  },
  {
   "cell_type": "code",
   "execution_count": 52,
   "id": "9a616c20-e021-4be2-bcf2-703b8009d577",
   "metadata": {},
   "outputs": [],
   "source": [
    "from keras.models import Sequential\n",
    "from keras.layers import Dense, Conv2D, MaxPool2D, Flatten, Dropout"
   ]
  },
  {
   "cell_type": "code",
   "execution_count": 53,
   "id": "e5ca8668-0c51-4f89-8d94-cd7e0c9b18c7",
   "metadata": {},
   "outputs": [],
   "source": [
    "model = Sequential()\n",
    "\n",
    "model.add(Conv2D(32, (3,3), input_shape = (28,28,1), activation ='relu'))\n",
    "model.add(MaxPool2D((2,2)))\n",
    "\n",
    "model.add(Conv2D(64, (3,3), activation ='relu'))\n",
    "model.add(MaxPool2D((2,2)))\n",
    "\n",
    "model.add(Flatten())\n",
    "model.add(Dropout(0.25))\n",
    "model.add(Dense(10, activation=\"softmax\")) #For classification of digits/ digit images"
   ]
  },
  {
   "cell_type": "code",
   "execution_count": 54,
   "id": "b72904fe-6f9a-4eba-83c8-08b999964c42",
   "metadata": {},
   "outputs": [
    {
     "name": "stdout",
     "output_type": "stream",
     "text": [
      "Model: \"sequential_3\"\n",
      "_________________________________________________________________\n",
      " Layer (type)                Output Shape              Param #   \n",
      "=================================================================\n",
      " conv2d_6 (Conv2D)           (None, 26, 26, 32)        320       \n",
      "                                                                 \n",
      " max_pooling2d_6 (MaxPoolin  (None, 13, 13, 32)        0         \n",
      " g2D)                                                            \n",
      "                                                                 \n",
      " conv2d_7 (Conv2D)           (None, 11, 11, 64)        18496     \n",
      "                                                                 \n",
      " max_pooling2d_7 (MaxPoolin  (None, 5, 5, 64)          0         \n",
      " g2D)                                                            \n",
      "                                                                 \n",
      " flatten_3 (Flatten)         (None, 1600)              0         \n",
      "                                                                 \n",
      " dropout_3 (Dropout)         (None, 1600)              0         \n",
      "                                                                 \n",
      " dense_3 (Dense)             (None, 10)                16010     \n",
      "                                                                 \n",
      "=================================================================\n",
      "Total params: 34826 (136.04 KB)\n",
      "Trainable params: 34826 (136.04 KB)\n",
      "Non-trainable params: 0 (0.00 Byte)\n",
      "_________________________________________________________________\n"
     ]
    }
   ],
   "source": [
    "model.summary()"
   ]
  },
  {
   "cell_type": "code",
   "execution_count": 55,
   "id": "f04d7090-1001-424e-8967-bcfa2865c2c6",
   "metadata": {},
   "outputs": [],
   "source": [
    "model.compile(optimizer='adam', loss=keras.losses.categorical_crossentropy, metrics=['accuracy'])"
   ]
  },
  {
   "cell_type": "code",
   "execution_count": 56,
   "id": "f7b74c02-896c-4242-b8ce-fc427f6ebc06",
   "metadata": {},
   "outputs": [],
   "source": [
    "from keras.callbacks import EarlyStopping, ModelCheckpoint\n",
    "\n",
    "es = EarlyStopping(monitor='val_acc', min_delta=0.01, patience=4, verbose=1)\n",
    "mc = ModelCheckpoint(\"MNIST-Digit-Recognition/Model/bestmodel.h5\", monitor=\"val_acc\", verbose=1, save_best_only=True)\n",
    "cb = [es,mc]"
   ]
  },
  {
   "cell_type": "code",
   "execution_count": 57,
   "id": "4fa44716-2395-4952-8c8b-0b3c19cbdfde",
   "metadata": {},
   "outputs": [
    {
     "name": "stdout",
     "output_type": "stream",
     "text": [
      "Epoch 1/50\n",
      "1313/1313 [==============================] - 5s 3ms/step - loss: 0.2237 - accuracy: 0.9323 - val_loss: 0.0804 - val_accuracy: 0.9749\n",
      "Epoch 2/50\n",
      "1313/1313 [==============================] - 5s 4ms/step - loss: 0.0765 - accuracy: 0.9771 - val_loss: 0.0590 - val_accuracy: 0.9828\n",
      "Epoch 3/50\n",
      "1313/1313 [==============================] - 5s 4ms/step - loss: 0.0574 - accuracy: 0.9829 - val_loss: 0.0516 - val_accuracy: 0.9837\n",
      "Epoch 4/50\n",
      "1313/1313 [==============================] - 3s 2ms/step - loss: 0.0467 - accuracy: 0.9848 - val_loss: 0.0486 - val_accuracy: 0.9857\n",
      "Epoch 5/50\n",
      "1313/1313 [==============================] - 5s 3ms/step - loss: 0.0383 - accuracy: 0.9882 - val_loss: 0.0443 - val_accuracy: 0.9867\n",
      "Epoch 6/50\n",
      "1313/1313 [==============================] - 4s 3ms/step - loss: 0.0336 - accuracy: 0.9894 - val_loss: 0.0457 - val_accuracy: 0.9863\n",
      "Epoch 7/50\n",
      "1313/1313 [==============================] - 5s 4ms/step - loss: 0.0293 - accuracy: 0.9906 - val_loss: 0.0425 - val_accuracy: 0.9877\n",
      "Epoch 8/50\n",
      "1313/1313 [==============================] - 3s 3ms/step - loss: 0.0253 - accuracy: 0.9919 - val_loss: 0.0379 - val_accuracy: 0.9896\n",
      "Epoch 9/50\n",
      "1313/1313 [==============================] - 6s 5ms/step - loss: 0.0237 - accuracy: 0.9920 - val_loss: 0.0465 - val_accuracy: 0.9866\n",
      "Epoch 10/50\n",
      "1313/1313 [==============================] - 5s 4ms/step - loss: 0.0205 - accuracy: 0.9931 - val_loss: 0.0465 - val_accuracy: 0.9879\n",
      "Epoch 11/50\n",
      "1313/1313 [==============================] - 5s 4ms/step - loss: 0.0183 - accuracy: 0.9935 - val_loss: 0.0452 - val_accuracy: 0.9876\n",
      "Epoch 12/50\n",
      "1313/1313 [==============================] - 5s 4ms/step - loss: 0.0167 - accuracy: 0.9944 - val_loss: 0.0397 - val_accuracy: 0.9903\n",
      "Epoch 13/50\n",
      "1313/1313 [==============================] - 6s 5ms/step - loss: 0.0165 - accuracy: 0.9942 - val_loss: 0.0401 - val_accuracy: 0.9898\n",
      "Epoch 14/50\n",
      "1313/1313 [==============================] - 6s 5ms/step - loss: 0.0138 - accuracy: 0.9955 - val_loss: 0.0430 - val_accuracy: 0.9890\n",
      "Epoch 15/50\n",
      "1313/1313 [==============================] - 5s 4ms/step - loss: 0.0149 - accuracy: 0.9953 - val_loss: 0.0453 - val_accuracy: 0.9892\n",
      "Epoch 16/50\n",
      "1313/1313 [==============================] - 4s 3ms/step - loss: 0.0128 - accuracy: 0.9959 - val_loss: 0.0434 - val_accuracy: 0.9895\n",
      "Epoch 17/50\n",
      "1313/1313 [==============================] - 6s 4ms/step - loss: 0.0130 - accuracy: 0.9955 - val_loss: 0.0460 - val_accuracy: 0.9879\n",
      "Epoch 18/50\n",
      "1313/1313 [==============================] - 5s 4ms/step - loss: 0.0113 - accuracy: 0.9962 - val_loss: 0.0443 - val_accuracy: 0.9894\n",
      "Epoch 19/50\n",
      "1313/1313 [==============================] - 5s 4ms/step - loss: 0.0102 - accuracy: 0.9966 - val_loss: 0.0426 - val_accuracy: 0.9895\n",
      "Epoch 20/50\n",
      "1313/1313 [==============================] - 6s 4ms/step - loss: 0.0106 - accuracy: 0.9965 - val_loss: 0.0446 - val_accuracy: 0.9900\n",
      "Epoch 21/50\n",
      "1313/1313 [==============================] - 2s 2ms/step - loss: 0.0115 - accuracy: 0.9959 - val_loss: 0.0460 - val_accuracy: 0.9893\n",
      "Epoch 22/50\n",
      "1313/1313 [==============================] - 3s 2ms/step - loss: 0.0087 - accuracy: 0.9968 - val_loss: 0.0453 - val_accuracy: 0.9900\n",
      "Epoch 23/50\n",
      "1313/1313 [==============================] - 2s 2ms/step - loss: 0.0106 - accuracy: 0.9962 - val_loss: 0.0477 - val_accuracy: 0.9888\n",
      "Epoch 24/50\n",
      "1313/1313 [==============================] - 4s 3ms/step - loss: 0.0081 - accuracy: 0.9971 - val_loss: 0.0505 - val_accuracy: 0.9892\n",
      "Epoch 25/50\n",
      "1313/1313 [==============================] - 4s 3ms/step - loss: 0.0085 - accuracy: 0.9970 - val_loss: 0.0500 - val_accuracy: 0.9905\n",
      "Epoch 26/50\n",
      "1313/1313 [==============================] - 2s 2ms/step - loss: 0.0094 - accuracy: 0.9966 - val_loss: 0.0462 - val_accuracy: 0.9897\n",
      "Epoch 27/50\n",
      "1313/1313 [==============================] - 4s 3ms/step - loss: 0.0079 - accuracy: 0.9969 - val_loss: 0.0476 - val_accuracy: 0.9901\n",
      "Epoch 28/50\n",
      "1313/1313 [==============================] - 5s 4ms/step - loss: 0.0078 - accuracy: 0.9971 - val_loss: 0.0500 - val_accuracy: 0.9898\n",
      "Epoch 29/50\n",
      "1313/1313 [==============================] - 6s 4ms/step - loss: 0.0082 - accuracy: 0.9974 - val_loss: 0.0438 - val_accuracy: 0.9902\n",
      "Epoch 30/50\n",
      "1313/1313 [==============================] - 2s 1ms/step - loss: 0.0072 - accuracy: 0.9974 - val_loss: 0.0492 - val_accuracy: 0.9897\n",
      "Epoch 31/50\n",
      "1313/1313 [==============================] - 2s 2ms/step - loss: 0.0064 - accuracy: 0.9977 - val_loss: 0.0488 - val_accuracy: 0.9903\n",
      "Epoch 32/50\n",
      "1313/1313 [==============================] - 5s 4ms/step - loss: 0.0059 - accuracy: 0.9980 - val_loss: 0.0530 - val_accuracy: 0.9888\n",
      "Epoch 33/50\n",
      "1313/1313 [==============================] - 6s 4ms/step - loss: 0.0086 - accuracy: 0.9971 - val_loss: 0.0518 - val_accuracy: 0.9896\n",
      "Epoch 34/50\n",
      "1313/1313 [==============================] - 5s 3ms/step - loss: 0.0071 - accuracy: 0.9976 - val_loss: 0.0496 - val_accuracy: 0.9902\n",
      "Epoch 35/50\n",
      "1313/1313 [==============================] - 4s 3ms/step - loss: 0.0080 - accuracy: 0.9971 - val_loss: 0.0512 - val_accuracy: 0.9897\n",
      "Epoch 36/50\n",
      "1313/1313 [==============================] - 4s 3ms/step - loss: 0.0059 - accuracy: 0.9980 - val_loss: 0.0512 - val_accuracy: 0.9899\n",
      "Epoch 37/50\n",
      "1313/1313 [==============================] - 5s 3ms/step - loss: 0.0056 - accuracy: 0.9979 - val_loss: 0.0504 - val_accuracy: 0.9909\n",
      "Epoch 38/50\n",
      "1313/1313 [==============================] - 4s 3ms/step - loss: 0.0055 - accuracy: 0.9981 - val_loss: 0.0618 - val_accuracy: 0.9889\n",
      "Epoch 39/50\n",
      "1313/1313 [==============================] - 5s 4ms/step - loss: 0.0068 - accuracy: 0.9978 - val_loss: 0.0533 - val_accuracy: 0.9908\n",
      "Epoch 40/50\n",
      "1313/1313 [==============================] - 3s 2ms/step - loss: 0.0049 - accuracy: 0.9983 - val_loss: 0.0628 - val_accuracy: 0.9895\n",
      "Epoch 41/50\n",
      "1313/1313 [==============================] - 5s 3ms/step - loss: 0.0062 - accuracy: 0.9978 - val_loss: 0.0519 - val_accuracy: 0.9904\n",
      "Epoch 42/50\n",
      "1313/1313 [==============================] - 5s 4ms/step - loss: 0.0062 - accuracy: 0.9980 - val_loss: 0.0604 - val_accuracy: 0.9889\n",
      "Epoch 43/50\n",
      "1313/1313 [==============================] - 5s 4ms/step - loss: 0.0060 - accuracy: 0.9979 - val_loss: 0.0600 - val_accuracy: 0.9898\n",
      "Epoch 44/50\n",
      "1313/1313 [==============================] - 6s 5ms/step - loss: 0.0038 - accuracy: 0.9989 - val_loss: 0.0549 - val_accuracy: 0.9899\n",
      "Epoch 45/50\n",
      "1313/1313 [==============================] - 6s 4ms/step - loss: 0.0062 - accuracy: 0.9976 - val_loss: 0.0516 - val_accuracy: 0.9894\n",
      "Epoch 46/50\n",
      "1313/1313 [==============================] - 4s 3ms/step - loss: 0.0052 - accuracy: 0.9981 - val_loss: 0.0523 - val_accuracy: 0.9904\n",
      "Epoch 47/50\n",
      "1313/1313 [==============================] - 3s 2ms/step - loss: 0.0052 - accuracy: 0.9983 - val_loss: 0.0552 - val_accuracy: 0.9906\n",
      "Epoch 48/50\n",
      "1313/1313 [==============================] - 5s 3ms/step - loss: 0.0046 - accuracy: 0.9985 - val_loss: 0.0578 - val_accuracy: 0.9899\n",
      "Epoch 49/50\n",
      "1313/1313 [==============================] - 4s 3ms/step - loss: 0.0054 - accuracy: 0.9984 - val_loss: 0.0642 - val_accuracy: 0.9898\n",
      "Epoch 50/50\n",
      "1313/1313 [==============================] - 4s 3ms/step - loss: 0.0058 - accuracy: 0.9981 - val_loss: 0.0555 - val_accuracy: 0.9908\n"
     ]
    }
   ],
   "source": [
    "his = model.fit(X_train, Y_train, epochs = 50, validation_split=0.3,)  #DO NOT RUN THIS, NEEDS HIGH GPU CAPABILITY, you do nbot have"
   ]
  },
  {
   "cell_type": "code",
   "execution_count": 58,
   "id": "51d045f6-cf16-4a72-a1b9-c0b9c1aefd8b",
   "metadata": {},
   "outputs": [
    {
     "name": "stdout",
     "output_type": "stream",
     "text": [
      "INFO:tensorflow:Assets written to: /home/Komi/Desktop/MNIST-Digit-Recognition/Model/Model.hd5/assets\n"
     ]
    },
    {
     "name": "stderr",
     "output_type": "stream",
     "text": [
      "INFO:tensorflow:Assets written to: /home/Komi/Desktop/MNIST-Digit-Recognition/Model/Model.hd5/assets\n"
     ]
    }
   ],
   "source": [
    "model.save(\"/home/Komi/Desktop/MNIST-Digit-Recognition/Model/Model.hd5\")"
   ]
  },
  {
   "cell_type": "code",
   "execution_count": null,
   "id": "09b7c4fb-b941-452f-9608-1bd33c04eb08",
   "metadata": {
    "collapsed": true,
    "jupyter": {
     "outputs_hidden": true
    }
   },
   "outputs": [],
   "source": [
    "##LOADING MODEL"
   ]
  },
  {
   "cell_type": "code",
   "execution_count": 59,
   "id": "3c492642-f61b-4d3d-bc4a-c9fcabeb8698",
   "metadata": {},
   "outputs": [
    {
     "name": "stdout",
     "output_type": "stream",
     "text": [
      "313/313 [==============================] - 0s 1ms/step - loss: 0.0477 - accuracy: 0.9920\n",
      "ACCURACY: 0.9919999837875366 and val_loss: 0.04768034815788269\n"
     ]
    }
   ],
   "source": [
    "model_S = keras.models.load_model(\"/home/Komi/Desktop/MNIST-Digit-Recognition/Model/Model.hd5\")\n",
    "score = model_S.evaluate(X_test, Y_test)\n",
    "print(f\"ACCURACY: {score[1]} and val_loss: {score[0]}\")"
   ]
  },
  {
   "cell_type": "code",
   "execution_count": null,
   "id": "c5118c1d-484b-4a81-beca-f20dd3c9b293",
   "metadata": {
    "collapsed": true,
    "jupyter": {
     "outputs_hidden": true,
     "source_hidden": true
    }
   },
   "outputs": [],
   "source": [
    "'''#CONFUSION MATRIX\n",
    "from sklearn.metrics import confusion_matrix\n",
    "import itertools\n",
    "#Defining a function for confusion matrix\n",
    "def plot_confusion_matrix(cm, classes,\n",
    "                          normalize=False,\n",
    "                          title='Confusion matrix',\n",
    "                          cmap=plt.cm.Blues):\n",
    "    \"\"\"\n",
    "    This function prints and plots the confusion matrix.\n",
    "    Normalization can be applied by setting `normalize=True`.\n",
    "    \"\"\"\n",
    "    plt.imshow(cm, interpolation='nearest', cmap=cmap)\n",
    "    plt.title(title)\n",
    "    plt.colorbar()\n",
    "    tick_marks = np.arange(len(classes))\n",
    "    plt.xticks(tick_marks, classes, rotation=45)\n",
    "    plt.yticks(tick_marks, classes)\n",
    "\n",
    "    if normalize:\n",
    "        cm = cm.astype('float') / cm.sum(axis=1)[:, np.newaxis]\n",
    "\n",
    "    thresh = cm.max() / 2.\n",
    "    for i, j in itertools.product(range(cm.shape[0]), range(cm.shape[1])):\n",
    "        plt.text(j, i, cm[i, j],\n",
    "                 horizontalalignment=\"center\",\n",
    "                 color=\"white\" if cm[i, j] > thresh else \"black\")\n",
    "\n",
    "    plt.tight_layout()\n",
    "    plt.ylabel('True label')\n",
    "    plt.xlabel('Predicted label')\n",
    "\n",
    "#Predicting the values from the validation dataset\n",
    "y_pred = model.predict(X_test)\n",
    "#Converting predictions classes to one hot vectors\n",
    "y_pred_classes = np.argmax(y_pred,axis = 1)\n",
    "#Converting validation observations to one hot vectors\n",
    "y_true = np.argmax(Y_test,axis = 1)\n",
    "#Computing the confusion matrix\n",
    "confusion_mtx = confusion_matrix(y_true, y_pred_classes)\n",
    "#Plotting the confusion matrix\n",
    "plot_confusion_matrix(confusion_mtx, classes = range(10))"
   ]
  },
  {
   "cell_type": "code",
   "execution_count": null,
   "id": "fd183452-4304-46b5-83fb-32b185e814cf",
   "metadata": {
    "collapsed": true,
    "jupyter": {
     "outputs_hidden": true,
     "source_hidden": true
    }
   },
   "outputs": [],
   "source": [
    "'''#To display some error results\n",
    "\n",
    "errors = (y_pred_classes - y_true != 0)\n",
    "\n",
    "y_pred_classes_errors = y_pred_classes[errors]\n",
    "y_pred_errors = y_pred[errors]\n",
    "y_true_errors = y_true[errors]\n",
    "X_val_errors = X_test[errors]\n",
    "\n",
    "#Defining a function for plotting the erros results\n",
    "def display_errors(errors_index, img_errors, pred_errors, obs_errors):\n",
    "    \"\"\" This function shows 12 images with their predicted and real labels\"\"\"\n",
    "    nrows = 4\n",
    "    ncols = 3\n",
    "    fig, ax = plt.subplots(nrows, ncols, figsize=(10, 10))\n",
    "    fig.subplots_adjust(hspace=0.5)\n",
    "    for i, axi in enumerate(ax.flat):\n",
    "        if i < len(errors_index):\n",
    "            error = errors_index[i]\n",
    "            axi.imshow((img_errors[error]).reshape((28,28)))\n",
    "            axi.set_title(\"Predicted label: {}\\nTrue label: {}\".format(pred_errors[error], obs_errors[error]))\n",
    "        axi.set_xticks([])\n",
    "        axi.set_yticks([])\n",
    "\n",
    "# Probabilities of the wrong predicted numbers\n",
    "y_pred_errors_prob = np.max(y_pred_errors, axis=1)\n",
    "\n",
    "# Predicted probabilities of the true values in the error set\n",
    "true_prob_errors = np.diagonal(np.take(y_pred_errors, y_true_errors, axis=1))\n",
    "\n",
    "# Difference between the probability of the predicted label and the true label\n",
    "delta_pred_true_errors = y_pred_errors_prob - true_prob_errors\n",
    "\n",
    "# Sorted list of the delta prob errors\n",
    "sorted_delta_errors = np.argsort(delta_pred_true_errors)\n",
    "\n",
    "# Top 12 errors\n",
    "most_important_errors = sorted_delta_errors[-12:]\n",
    "\n",
    "# Displaying the top 12 errors\n",
    "display_errors(most_important_errors, X_val_errors, y_pred_classes_errors, y_true_errors)"
   ]
  },
  {
   "cell_type": "code",
   "execution_count": 60,
   "id": "38045652-ce71-4baf-a0c9-fa18dd89a90c",
   "metadata": {},
   "outputs": [
    {
     "name": "stdout",
     "output_type": "stream",
     "text": [
      "313/313 [==============================] - 0s 467us/step\n"
     ]
    },
    {
     "data": {
      "image/png": "[encoded data removed]",
      "text/plain": [
       "<Figure size 1000x1000 with 10 Axes>"
      ]
     },
     "metadata": {},
     "output_type": "display_data"
    }
   ],
   "source": [
    "## Displaying outputs\n",
    "\n",
    "predictions = model_S.predict(X_test)\n",
    "predicted_labels = np.argmax(predictions, axis = 1)\n",
    "\n",
    "plt.figure(figsize=(10,10))\n",
    "for i in range(10):\n",
    "    plt.subplot(5, 5, i+1)\n",
    "    plt.imshow(X_test[i].reshape(28,28), cmap='gray')\n",
    "    true_label = np.argmax(Y_test[i])\n",
    "    predicted_label = predicted_labels[i]\n",
    "    title = f'True: {true_label}\\nPredicted: {predicted_label}'\n",
    "    plt.title(title)\n",
    "    plt.axis('off')\n",
    "plt.show()"
   ]
  },
  {
   "cell_type": "code",
   "execution_count": null,
   "id": "1482222d-cd0c-43fc-826c-5b0336862509",
   "metadata": {
    "collapsed": true,
    "jupyter": {
     "outputs_hidden": true
    }
   },
   "outputs": [],
   "source": []
  }
 ],
 "metadata": {
  "kernelspec": {
   "display_name": "Python 3 (ipykernel)",
   "language": "python",
   "name": "python3"
  },
  "language_info": {
   "codemirror_mode": {
    "name": "ipython",
    "version": 3
   },
   "file_extension": ".py",
   "mimetype": "text/x-python",
   "name": "python",
   "nbconvert_exporter": "python",
   "pygments_lexer": "ipython3",
   "version": "3.11.8"
  }
 },
 "nbformat": 4,
 "nbformat_minor": 5
}
