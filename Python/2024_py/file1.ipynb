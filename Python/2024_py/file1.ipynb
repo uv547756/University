{
 "cells": [
  {
   "cell_type": "code",
   "execution_count": 3,
   "metadata": {
    "scrolled": true
   },
   "outputs": [
    {
     "name": "stdout",
     "output_type": "stream",
     "text": [
      "Enter contents for the text file:hello there hello\n",
      "/n written data successfully\n",
      "/n Printing unique words from file: /n\n",
      "hello "
     ]
    }
   ],
   "source": [
    "inp = input(\"Enter contents for the text file:\")\n",
    "with open('test.txt','w') as f:\n",
    "    f.write(inp)\n",
    "print(\"\\n written data successfully\")\n",
    "print(\"\\n Printing unique words from file: /n\")\n",
    "s = set()\n",
    "with open('test.txt', 'r') as f:\n",
    "    data = f.read()\n",
    "words=data.split()\n",
    "for i in words:\n",
    "    if i not in s:\n",
    "          s.add(i)\n",
    "    else:\n",
    "          print(i, end=\" \")"
   ]
  },
  {
   "cell_type": "code",
   "execution_count": null,
   "metadata": {},
   "outputs": [],
   "source": []
  }
 ],
 "metadata": {
  "kernelspec": {
   "display_name": "Python 3",
   "language": "python",
   "name": "python3"
  },
  "language_info": {
   "codemirror_mode": {
    "name": "ipython",
    "version": 3
   },
   "file_extension": ".py",
   "mimetype": "text/x-python",
   "name": "python",
   "nbconvert_exporter": "python",
   "pygments_lexer": "ipython3",
   "version": "3.7.0"
  }
 },
 "nbformat": 4,
 "nbformat_minor": 2
}
